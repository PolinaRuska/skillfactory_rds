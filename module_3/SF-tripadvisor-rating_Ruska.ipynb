{
 "cells": [
  {
   "cell_type": "markdown",
   "metadata": {},
   "source": [
    "# Predict TripAdvisor Rating\n",
    "\n",
    "**Основная цель:** Предсказать рейтинг ресторанов на Tripadvisor (c MAE выше базовой модели 0.21).\n",
    "\n",
    "*Best Models на Kaggle MAE < 0.14*"
   ]
  },
  {
   "cell_type": "markdown",
   "metadata": {},
   "source": [
    "# Import libraries & dataset"
   ]
  },
  {
   "cell_type": "code",
   "execution_count": 1,
   "metadata": {
    "_cell_guid": "b1076dfc-b9ad-4769-8c92-a6c4dae69d19",
    "_uuid": "8f2839f25d086af736a60e9eeb907d3b93b6e0e5"
   },
   "outputs": [
    {
     "name": "stdout",
     "output_type": "stream",
     "text": [
      "C:/Users/rf110933/Desktop/Education/ML/kaggle/input\\kaggle_task.csv\n",
      "C:/Users/rf110933/Desktop/Education/ML/kaggle/input\\main_task.csv\n",
      "C:/Users/rf110933/Desktop/Education/ML/kaggle/input\\sample_submission.csv\n"
     ]
    }
   ],
   "source": [
    "import time\n",
    "from datetime import datetime  # работа с датой и временем\n",
    "import re  # работа с регулярными выражениями\n",
    "import os\n",
    "import json\n",
    "from collections import Counter\n",
    "import itertools\n",
    "import datetime as dt\n",
    "# инструмент для создания и обучения модели\n",
    "from sklearn.ensemble import RandomForestRegressor\n",
    "from sklearn.preprocessing import LabelEncoder  # переименование заголовков\n",
    "from sklearn import metrics  # инструменты для оценки точности модели\n",
    "# специальный инструмент для разбивки\n",
    "from sklearn.model_selection import train_test_split\n",
    "import numpy as np  # linear algebra\n",
    "import pandas as pd  # data processing\n",
    "\n",
    "# для визуализации\n",
    "import matplotlib.pyplot as plt\n",
    "import seaborn as sns\n",
    "%matplotlib inline\n",
    "\n",
    "for dirname, _, filenames in os.walk('C:/Users/rf110933/Desktop/Education/ML/kaggle/input'):\n",
    "    for filename in filenames:\n",
    "        print(os.path.join(dirname, filename))"
   ]
  },
  {
   "cell_type": "code",
   "execution_count": 2,
   "metadata": {},
   "outputs": [],
   "source": [
    "# фиксируем RANDOM_SEED, чтобы эксперименты были воспроизводимы\n",
    "RANDOM_SEED = 50"
   ]
  },
  {
   "cell_type": "code",
   "execution_count": 3,
   "metadata": {},
   "outputs": [],
   "source": [
    "# зафиксируем версию пакетов, чтобы эксперименты были воспроизводимы:\n",
    "!pip freeze > requirements.txt"
   ]
  },
  {
   "cell_type": "markdown",
   "metadata": {},
   "source": [
    "# DATA SET UPLOAD & FIRST REVIEW"
   ]
  },
  {
   "cell_type": "code",
   "execution_count": 4,
   "metadata": {
    "_cell_guid": "79c7e3d0-c299-4dcb-8224-4455121ee9b0",
    "_uuid": "d629ff2d2480ee46fbb7e2d37f6b5fab8052498a"
   },
   "outputs": [],
   "source": [
    "DATA_DIR = 'C:/Users/rf110933/Desktop/Education/ML/kaggle/input'\n",
    "# прогружаем тренировочный data set\n",
    "df_train = pd.read_csv(DATA_DIR+'/main_task.csv')\n",
    "# прогружаем тестовый data set\n",
    "df_test = pd.read_csv(DATA_DIR+'/kaggle_task.csv')\n",
    "sample_submission = pd.read_csv(DATA_DIR+'/sample_submission.csv')"
   ]
  },
  {
   "cell_type": "code",
   "execution_count": 5,
   "metadata": {},
   "outputs": [],
   "source": [
    "# Путь к датасету, содержащему позитивные слова\n",
    "df_pos_words = pd.read_csv('positive-words.txt', skiprows=34, names=['word'])\n",
    "pos_words_list = df_pos_words['word'].to_list()"
   ]
  },
  {
   "cell_type": "code",
   "execution_count": 6,
   "metadata": {
    "scrolled": true
   },
   "outputs": [
    {
     "name": "stdout",
     "output_type": "stream",
     "text": [
      "<class 'pandas.core.frame.DataFrame'>\n",
      "RangeIndex: 40000 entries, 0 to 39999\n",
      "Data columns (total 10 columns):\n",
      " #   Column             Non-Null Count  Dtype  \n",
      "---  ------             --------------  -----  \n",
      " 0   Restaurant_id      40000 non-null  object \n",
      " 1   City               40000 non-null  object \n",
      " 2   Cuisine Style      30717 non-null  object \n",
      " 3   Ranking            40000 non-null  float64\n",
      " 4   Rating             40000 non-null  float64\n",
      " 5   Price Range        26114 non-null  object \n",
      " 6   Number of Reviews  37457 non-null  float64\n",
      " 7   Reviews            40000 non-null  object \n",
      " 8   URL_TA             40000 non-null  object \n",
      " 9   ID_TA              40000 non-null  object \n",
      "dtypes: float64(3), object(7)\n",
      "memory usage: 3.1+ MB\n"
     ]
    }
   ],
   "source": [
    "df_train.info()"
   ]
  },
  {
   "cell_type": "code",
   "execution_count": 7,
   "metadata": {
    "scrolled": true
   },
   "outputs": [
    {
     "data": {
      "text/html": [
       "<div>\n",
       "<style scoped>\n",
       "    .dataframe tbody tr th:only-of-type {\n",
       "        vertical-align: middle;\n",
       "    }\n",
       "\n",
       "    .dataframe tbody tr th {\n",
       "        vertical-align: top;\n",
       "    }\n",
       "\n",
       "    .dataframe thead th {\n",
       "        text-align: right;\n",
       "    }\n",
       "</style>\n",
       "<table border=\"1\" class=\"dataframe\">\n",
       "  <thead>\n",
       "    <tr style=\"text-align: right;\">\n",
       "      <th></th>\n",
       "      <th>Restaurant_id</th>\n",
       "      <th>City</th>\n",
       "      <th>Cuisine Style</th>\n",
       "      <th>Ranking</th>\n",
       "      <th>Rating</th>\n",
       "      <th>Price Range</th>\n",
       "      <th>Number of Reviews</th>\n",
       "      <th>Reviews</th>\n",
       "      <th>URL_TA</th>\n",
       "      <th>ID_TA</th>\n",
       "    </tr>\n",
       "  </thead>\n",
       "  <tbody>\n",
       "    <tr>\n",
       "      <th>0</th>\n",
       "      <td>id_5569</td>\n",
       "      <td>Paris</td>\n",
       "      <td>['European', 'French', 'International']</td>\n",
       "      <td>5570.0</td>\n",
       "      <td>3.5</td>\n",
       "      <td>$$ - $$$</td>\n",
       "      <td>194.0</td>\n",
       "      <td>[['Good food at your doorstep', 'A good hotel ...</td>\n",
       "      <td>/Restaurant_Review-g187147-d1912643-Reviews-R_...</td>\n",
       "      <td>d1912643</td>\n",
       "    </tr>\n",
       "    <tr>\n",
       "      <th>1</th>\n",
       "      <td>id_1535</td>\n",
       "      <td>Stockholm</td>\n",
       "      <td>NaN</td>\n",
       "      <td>1537.0</td>\n",
       "      <td>4.0</td>\n",
       "      <td>NaN</td>\n",
       "      <td>10.0</td>\n",
       "      <td>[['Unique cuisine', 'Delicious Nepalese food']...</td>\n",
       "      <td>/Restaurant_Review-g189852-d7992032-Reviews-Bu...</td>\n",
       "      <td>d7992032</td>\n",
       "    </tr>\n",
       "    <tr>\n",
       "      <th>2</th>\n",
       "      <td>id_352</td>\n",
       "      <td>London</td>\n",
       "      <td>['Japanese', 'Sushi', 'Asian', 'Grill', 'Veget...</td>\n",
       "      <td>353.0</td>\n",
       "      <td>4.5</td>\n",
       "      <td>$$$$</td>\n",
       "      <td>688.0</td>\n",
       "      <td>[['Catch up with friends', 'Not exceptional'],...</td>\n",
       "      <td>/Restaurant_Review-g186338-d8632781-Reviews-RO...</td>\n",
       "      <td>d8632781</td>\n",
       "    </tr>\n",
       "    <tr>\n",
       "      <th>3</th>\n",
       "      <td>id_3456</td>\n",
       "      <td>Berlin</td>\n",
       "      <td>NaN</td>\n",
       "      <td>3458.0</td>\n",
       "      <td>5.0</td>\n",
       "      <td>NaN</td>\n",
       "      <td>3.0</td>\n",
       "      <td>[[], []]</td>\n",
       "      <td>/Restaurant_Review-g187323-d1358776-Reviews-Es...</td>\n",
       "      <td>d1358776</td>\n",
       "    </tr>\n",
       "    <tr>\n",
       "      <th>4</th>\n",
       "      <td>id_615</td>\n",
       "      <td>Munich</td>\n",
       "      <td>['German', 'Central European', 'Vegetarian Fri...</td>\n",
       "      <td>621.0</td>\n",
       "      <td>4.0</td>\n",
       "      <td>$$ - $$$</td>\n",
       "      <td>84.0</td>\n",
       "      <td>[['Best place to try a Bavarian food', 'Nice b...</td>\n",
       "      <td>/Restaurant_Review-g187309-d6864963-Reviews-Au...</td>\n",
       "      <td>d6864963</td>\n",
       "    </tr>\n",
       "  </tbody>\n",
       "</table>\n",
       "</div>"
      ],
      "text/plain": [
       "  Restaurant_id       City                                      Cuisine Style  \\\n",
       "0       id_5569      Paris            ['European', 'French', 'International']   \n",
       "1       id_1535  Stockholm                                                NaN   \n",
       "2        id_352     London  ['Japanese', 'Sushi', 'Asian', 'Grill', 'Veget...   \n",
       "3       id_3456     Berlin                                                NaN   \n",
       "4        id_615     Munich  ['German', 'Central European', 'Vegetarian Fri...   \n",
       "\n",
       "   Ranking  Rating Price Range  Number of Reviews  \\\n",
       "0   5570.0     3.5    $$ - $$$              194.0   \n",
       "1   1537.0     4.0         NaN               10.0   \n",
       "2    353.0     4.5        $$$$              688.0   \n",
       "3   3458.0     5.0         NaN                3.0   \n",
       "4    621.0     4.0    $$ - $$$               84.0   \n",
       "\n",
       "                                             Reviews  \\\n",
       "0  [['Good food at your doorstep', 'A good hotel ...   \n",
       "1  [['Unique cuisine', 'Delicious Nepalese food']...   \n",
       "2  [['Catch up with friends', 'Not exceptional'],...   \n",
       "3                                           [[], []]   \n",
       "4  [['Best place to try a Bavarian food', 'Nice b...   \n",
       "\n",
       "                                              URL_TA     ID_TA  \n",
       "0  /Restaurant_Review-g187147-d1912643-Reviews-R_...  d1912643  \n",
       "1  /Restaurant_Review-g189852-d7992032-Reviews-Bu...  d7992032  \n",
       "2  /Restaurant_Review-g186338-d8632781-Reviews-RO...  d8632781  \n",
       "3  /Restaurant_Review-g187323-d1358776-Reviews-Es...  d1358776  \n",
       "4  /Restaurant_Review-g187309-d6864963-Reviews-Au...  d6864963  "
      ]
     },
     "execution_count": 7,
     "metadata": {},
     "output_type": "execute_result"
    }
   ],
   "source": [
    "df_train.head(5)"
   ]
  },
  {
   "cell_type": "code",
   "execution_count": 8,
   "metadata": {
    "scrolled": true
   },
   "outputs": [
    {
     "name": "stdout",
     "output_type": "stream",
     "text": [
      "<class 'pandas.core.frame.DataFrame'>\n",
      "RangeIndex: 10000 entries, 0 to 9999\n",
      "Data columns (total 9 columns):\n",
      " #   Column             Non-Null Count  Dtype  \n",
      "---  ------             --------------  -----  \n",
      " 0   Restaurant_id      10000 non-null  object \n",
      " 1   City               10000 non-null  object \n",
      " 2   Cuisine Style      7693 non-null   object \n",
      " 3   Ranking            10000 non-null  float64\n",
      " 4   Price Range        6525 non-null   object \n",
      " 5   Number of Reviews  9343 non-null   float64\n",
      " 6   Reviews            9998 non-null   object \n",
      " 7   URL_TA             10000 non-null  object \n",
      " 8   ID_TA              10000 non-null  object \n",
      "dtypes: float64(2), object(7)\n",
      "memory usage: 703.2+ KB\n"
     ]
    }
   ],
   "source": [
    "df_test.info()"
   ]
  },
  {
   "cell_type": "code",
   "execution_count": 9,
   "metadata": {},
   "outputs": [
    {
     "data": {
      "text/html": [
       "<div>\n",
       "<style scoped>\n",
       "    .dataframe tbody tr th:only-of-type {\n",
       "        vertical-align: middle;\n",
       "    }\n",
       "\n",
       "    .dataframe tbody tr th {\n",
       "        vertical-align: top;\n",
       "    }\n",
       "\n",
       "    .dataframe thead th {\n",
       "        text-align: right;\n",
       "    }\n",
       "</style>\n",
       "<table border=\"1\" class=\"dataframe\">\n",
       "  <thead>\n",
       "    <tr style=\"text-align: right;\">\n",
       "      <th></th>\n",
       "      <th>Restaurant_id</th>\n",
       "      <th>City</th>\n",
       "      <th>Cuisine Style</th>\n",
       "      <th>Ranking</th>\n",
       "      <th>Price Range</th>\n",
       "      <th>Number of Reviews</th>\n",
       "      <th>Reviews</th>\n",
       "      <th>URL_TA</th>\n",
       "      <th>ID_TA</th>\n",
       "    </tr>\n",
       "  </thead>\n",
       "  <tbody>\n",
       "    <tr>\n",
       "      <th>0</th>\n",
       "      <td>id_0</td>\n",
       "      <td>Paris</td>\n",
       "      <td>['Bar', 'Pub']</td>\n",
       "      <td>12963.0</td>\n",
       "      <td>$$ - $$$</td>\n",
       "      <td>4.0</td>\n",
       "      <td>[[], []]</td>\n",
       "      <td>/Restaurant_Review-g187147-d10746918-Reviews-L...</td>\n",
       "      <td>d10746918</td>\n",
       "    </tr>\n",
       "    <tr>\n",
       "      <th>1</th>\n",
       "      <td>id_1</td>\n",
       "      <td>Helsinki</td>\n",
       "      <td>['European', 'Scandinavian', 'Gluten Free Opti...</td>\n",
       "      <td>106.0</td>\n",
       "      <td>$$ - $$$</td>\n",
       "      <td>97.0</td>\n",
       "      <td>[['Very good reviews!', 'Fine dining in Hakani...</td>\n",
       "      <td>/Restaurant_Review-g189934-d6674944-Reviews-Ra...</td>\n",
       "      <td>d6674944</td>\n",
       "    </tr>\n",
       "    <tr>\n",
       "      <th>2</th>\n",
       "      <td>id_2</td>\n",
       "      <td>Edinburgh</td>\n",
       "      <td>['Vegetarian Friendly']</td>\n",
       "      <td>810.0</td>\n",
       "      <td>$$ - $$$</td>\n",
       "      <td>28.0</td>\n",
       "      <td>[['Better than the Links', 'Ivy Black'], ['12/...</td>\n",
       "      <td>/Restaurant_Review-g186525-d13129638-Reviews-B...</td>\n",
       "      <td>d13129638</td>\n",
       "    </tr>\n",
       "    <tr>\n",
       "      <th>3</th>\n",
       "      <td>id_3</td>\n",
       "      <td>London</td>\n",
       "      <td>['Italian', 'Mediterranean', 'European', 'Vege...</td>\n",
       "      <td>1669.0</td>\n",
       "      <td>$$$$</td>\n",
       "      <td>202.0</td>\n",
       "      <td>[['Most exquisite', 'Delicious and authentic']...</td>\n",
       "      <td>/Restaurant_Review-g186338-d680417-Reviews-Qui...</td>\n",
       "      <td>d680417</td>\n",
       "    </tr>\n",
       "    <tr>\n",
       "      <th>4</th>\n",
       "      <td>id_4</td>\n",
       "      <td>Bratislava</td>\n",
       "      <td>['Italian', 'Mediterranean', 'European', 'Seaf...</td>\n",
       "      <td>37.0</td>\n",
       "      <td>$$$$</td>\n",
       "      <td>162.0</td>\n",
       "      <td>[['Always the best in bratislava', 'Very good ...</td>\n",
       "      <td>/Restaurant_Review-g274924-d1112354-Reviews-Ma...</td>\n",
       "      <td>d1112354</td>\n",
       "    </tr>\n",
       "  </tbody>\n",
       "</table>\n",
       "</div>"
      ],
      "text/plain": [
       "  Restaurant_id        City  \\\n",
       "0          id_0       Paris   \n",
       "1          id_1    Helsinki   \n",
       "2          id_2   Edinburgh   \n",
       "3          id_3      London   \n",
       "4          id_4  Bratislava   \n",
       "\n",
       "                                       Cuisine Style  Ranking Price Range  \\\n",
       "0                                     ['Bar', 'Pub']  12963.0    $$ - $$$   \n",
       "1  ['European', 'Scandinavian', 'Gluten Free Opti...    106.0    $$ - $$$   \n",
       "2                            ['Vegetarian Friendly']    810.0    $$ - $$$   \n",
       "3  ['Italian', 'Mediterranean', 'European', 'Vege...   1669.0        $$$$   \n",
       "4  ['Italian', 'Mediterranean', 'European', 'Seaf...     37.0        $$$$   \n",
       "\n",
       "   Number of Reviews                                            Reviews  \\\n",
       "0                4.0                                           [[], []]   \n",
       "1               97.0  [['Very good reviews!', 'Fine dining in Hakani...   \n",
       "2               28.0  [['Better than the Links', 'Ivy Black'], ['12/...   \n",
       "3              202.0  [['Most exquisite', 'Delicious and authentic']...   \n",
       "4              162.0  [['Always the best in bratislava', 'Very good ...   \n",
       "\n",
       "                                              URL_TA      ID_TA  \n",
       "0  /Restaurant_Review-g187147-d10746918-Reviews-L...  d10746918  \n",
       "1  /Restaurant_Review-g189934-d6674944-Reviews-Ra...   d6674944  \n",
       "2  /Restaurant_Review-g186525-d13129638-Reviews-B...  d13129638  \n",
       "3  /Restaurant_Review-g186338-d680417-Reviews-Qui...    d680417  \n",
       "4  /Restaurant_Review-g274924-d1112354-Reviews-Ma...   d1112354  "
      ]
     },
     "execution_count": 9,
     "metadata": {},
     "output_type": "execute_result"
    }
   ],
   "source": [
    "df_test.head(5)"
   ]
  },
  {
   "cell_type": "code",
   "execution_count": 10,
   "metadata": {},
   "outputs": [
    {
     "data": {
      "text/html": [
       "<div>\n",
       "<style scoped>\n",
       "    .dataframe tbody tr th:only-of-type {\n",
       "        vertical-align: middle;\n",
       "    }\n",
       "\n",
       "    .dataframe tbody tr th {\n",
       "        vertical-align: top;\n",
       "    }\n",
       "\n",
       "    .dataframe thead th {\n",
       "        text-align: right;\n",
       "    }\n",
       "</style>\n",
       "<table border=\"1\" class=\"dataframe\">\n",
       "  <thead>\n",
       "    <tr style=\"text-align: right;\">\n",
       "      <th></th>\n",
       "      <th>Restaurant_id</th>\n",
       "      <th>Rating</th>\n",
       "    </tr>\n",
       "  </thead>\n",
       "  <tbody>\n",
       "    <tr>\n",
       "      <th>0</th>\n",
       "      <td>id_0</td>\n",
       "      <td>2.0</td>\n",
       "    </tr>\n",
       "    <tr>\n",
       "      <th>1</th>\n",
       "      <td>id_1</td>\n",
       "      <td>2.5</td>\n",
       "    </tr>\n",
       "    <tr>\n",
       "      <th>2</th>\n",
       "      <td>id_2</td>\n",
       "      <td>4.0</td>\n",
       "    </tr>\n",
       "    <tr>\n",
       "      <th>3</th>\n",
       "      <td>id_3</td>\n",
       "      <td>1.0</td>\n",
       "    </tr>\n",
       "    <tr>\n",
       "      <th>4</th>\n",
       "      <td>id_4</td>\n",
       "      <td>4.0</td>\n",
       "    </tr>\n",
       "  </tbody>\n",
       "</table>\n",
       "</div>"
      ],
      "text/plain": [
       "  Restaurant_id  Rating\n",
       "0          id_0     2.0\n",
       "1          id_1     2.5\n",
       "2          id_2     4.0\n",
       "3          id_3     1.0\n",
       "4          id_4     4.0"
      ]
     },
     "execution_count": 10,
     "metadata": {},
     "output_type": "execute_result"
    }
   ],
   "source": [
    "sample_submission.head(5)"
   ]
  },
  {
   "cell_type": "code",
   "execution_count": 11,
   "metadata": {},
   "outputs": [
    {
     "name": "stdout",
     "output_type": "stream",
     "text": [
      "<class 'pandas.core.frame.DataFrame'>\n",
      "RangeIndex: 10000 entries, 0 to 9999\n",
      "Data columns (total 2 columns):\n",
      " #   Column         Non-Null Count  Dtype  \n",
      "---  ------         --------------  -----  \n",
      " 0   Restaurant_id  10000 non-null  object \n",
      " 1   Rating         10000 non-null  float64\n",
      "dtypes: float64(1), object(1)\n",
      "memory usage: 156.4+ KB\n"
     ]
    }
   ],
   "source": [
    "sample_submission.info()"
   ]
  },
  {
   "cell_type": "code",
   "execution_count": 12,
   "metadata": {},
   "outputs": [],
   "source": [
    "# Для корректной обработки признаков объединяем трейн и тест в один датасет\n",
    "df_train['sample'] = 1  # помечаем где у нас трейн\n",
    "df_test['sample'] = 0  # помечаем где у нас тест\n",
    "# в тесте у нас нет значения Rating, мы его должны предсказать, по этому пока просто заполняем нулями\n",
    "df_test['Rating'] = 0\n",
    "\n",
    "data = df_test.append(df_train, sort=False).reset_index(\n",
    "    drop=True)  # объединяем"
   ]
  },
  {
   "cell_type": "code",
   "execution_count": 13,
   "metadata": {
    "scrolled": true
   },
   "outputs": [
    {
     "name": "stdout",
     "output_type": "stream",
     "text": [
      "<class 'pandas.core.frame.DataFrame'>\n",
      "RangeIndex: 50000 entries, 0 to 49999\n",
      "Data columns (total 11 columns):\n",
      " #   Column             Non-Null Count  Dtype  \n",
      "---  ------             --------------  -----  \n",
      " 0   Restaurant_id      50000 non-null  object \n",
      " 1   City               50000 non-null  object \n",
      " 2   Cuisine Style      38410 non-null  object \n",
      " 3   Ranking            50000 non-null  float64\n",
      " 4   Price Range        32639 non-null  object \n",
      " 5   Number of Reviews  46800 non-null  float64\n",
      " 6   Reviews            49998 non-null  object \n",
      " 7   URL_TA             50000 non-null  object \n",
      " 8   ID_TA              50000 non-null  object \n",
      " 9   sample             50000 non-null  int64  \n",
      " 10  Rating             50000 non-null  float64\n",
      "dtypes: float64(3), int64(1), object(7)\n",
      "memory usage: 4.2+ MB\n"
     ]
    }
   ],
   "source": [
    "# Посмотрим на общую информацию о данных и количество пропусков\n",
    "data.info()"
   ]
  },
  {
   "cell_type": "code",
   "execution_count": 14,
   "metadata": {},
   "outputs": [
    {
     "data": {
      "image/png": "[encoded data removed]",
      "text/plain": [
       "<Figure size 1440x720 with 4 Axes>"
      ]
     },
     "metadata": {
      "needs_background": "light"
     },
     "output_type": "display_data"
    }
   ],
   "source": [
    "# Посмотрим на гистограмму числовых переменных\n",
    "data[['Ranking', 'Number of Reviews', 'Rating']].hist(\n",
    "    figsize=(20, 10), bins=100)\n",
    "plt.tight_layout()"
   ]
  },
  {
   "cell_type": "code",
   "execution_count": 15,
   "metadata": {},
   "outputs": [
    {
     "data": {
      "text/plain": [
       "Restaurant_id        13094\n",
       "City                    31\n",
       "Cuisine Style        10732\n",
       "Ranking              12975\n",
       "Price Range              4\n",
       "Number of Reviews     1574\n",
       "Reviews              41858\n",
       "URL_TA               49963\n",
       "ID_TA                49963\n",
       "sample                   2\n",
       "Rating                  10\n",
       "dtype: int64"
      ]
     },
     "execution_count": 15,
     "metadata": {},
     "output_type": "execute_result"
    }
   ],
   "source": [
    "# Посмотрим на количество уникальных значений\n",
    "data.nunique(dropna=False)"
   ]
  },
  {
   "cell_type": "markdown",
   "metadata": {},
   "source": [
    "Мы видим, что большинство признаков требует очистки и предварительной обработки - есть пропуски, номинативные переменные в странном формате. Данные необходимо будет очистить и привести в порядок."
   ]
  },
  {
   "cell_type": "markdown",
   "metadata": {},
   "source": [
    "**Признаки**:\n",
    "* Restaurant_id: идентификационный номер ресторана; \n",
    "* City: Город;\n",
    "* Cuisine Style: Кухня;\n",
    "* Ranking: Ранг ресторана относительно других ресторанов в этом городе;\n",
    "* **Rating**: Рейтинг ресторана (именно это значение должна будет предсказывать модель);\n",
    "* Price Range: Цены в ресторане в 3 категориях;\n",
    "* Number of Reviews: Количество отзывов;\n",
    "* Reviews: 2 последних отзыва и даты этих отзывов;\n",
    "* URL_TA: страница ресторана на 'www.tripadvisor.com';\n",
    "* ID_TA: ID ресторана в TripAdvisor;"
   ]
  },
  {
   "cell_type": "code",
   "execution_count": 16,
   "metadata": {},
   "outputs": [
    {
     "data": {
      "text/html": [
       "<div>\n",
       "<style scoped>\n",
       "    .dataframe tbody tr th:only-of-type {\n",
       "        vertical-align: middle;\n",
       "    }\n",
       "\n",
       "    .dataframe tbody tr th {\n",
       "        vertical-align: top;\n",
       "    }\n",
       "\n",
       "    .dataframe thead th {\n",
       "        text-align: right;\n",
       "    }\n",
       "</style>\n",
       "<table border=\"1\" class=\"dataframe\">\n",
       "  <thead>\n",
       "    <tr style=\"text-align: right;\">\n",
       "      <th></th>\n",
       "      <th>Restaurant_id</th>\n",
       "      <th>City</th>\n",
       "      <th>Cuisine Style</th>\n",
       "      <th>Ranking</th>\n",
       "      <th>Price Range</th>\n",
       "      <th>Number of Reviews</th>\n",
       "      <th>Reviews</th>\n",
       "      <th>URL_TA</th>\n",
       "      <th>ID_TA</th>\n",
       "      <th>sample</th>\n",
       "      <th>Rating</th>\n",
       "    </tr>\n",
       "  </thead>\n",
       "  <tbody>\n",
       "    <tr>\n",
       "      <th>48371</th>\n",
       "      <td>id_8623</td>\n",
       "      <td>Paris</td>\n",
       "      <td>['French']</td>\n",
       "      <td>8625.0</td>\n",
       "      <td>NaN</td>\n",
       "      <td>4.0</td>\n",
       "      <td>[['Amazing food and good prices!', 'Simple lun...</td>\n",
       "      <td>/Restaurant_Review-g187147-d10166205-Reviews-B...</td>\n",
       "      <td>d10166205</td>\n",
       "      <td>1</td>\n",
       "      <td>4.5</td>\n",
       "    </tr>\n",
       "    <tr>\n",
       "      <th>41787</th>\n",
       "      <td>id_236</td>\n",
       "      <td>Dublin</td>\n",
       "      <td>['Irish', 'Bar', 'Pub']</td>\n",
       "      <td>237.0</td>\n",
       "      <td>$$ - $$$</td>\n",
       "      <td>459.0</td>\n",
       "      <td>[['Very interesting place.', 'Good beer select...</td>\n",
       "      <td>/Restaurant_Review-g186605-d696358-Reviews-Ble...</td>\n",
       "      <td>d696358</td>\n",
       "      <td>1</td>\n",
       "      <td>4.0</td>\n",
       "    </tr>\n",
       "    <tr>\n",
       "      <th>14818</th>\n",
       "      <td>id_194</td>\n",
       "      <td>Krakow</td>\n",
       "      <td>['Polish', 'Bar', 'European', 'Pub', 'Vegetari...</td>\n",
       "      <td>195.0</td>\n",
       "      <td>$$ - $$$</td>\n",
       "      <td>199.0</td>\n",
       "      <td>[['Stopped for a drink, very happy', 'Interest...</td>\n",
       "      <td>/Restaurant_Review-g274772-d6405345-Reviews-Fo...</td>\n",
       "      <td>d6405345</td>\n",
       "      <td>1</td>\n",
       "      <td>4.0</td>\n",
       "    </tr>\n",
       "    <tr>\n",
       "      <th>41612</th>\n",
       "      <td>id_2238</td>\n",
       "      <td>London</td>\n",
       "      <td>['French', 'Fast Food']</td>\n",
       "      <td>2243.0</td>\n",
       "      <td>$$ - $$$</td>\n",
       "      <td>150.0</td>\n",
       "      <td>[['Very good', 'Great Tasting Burger, pity abo...</td>\n",
       "      <td>/Restaurant_Review-g186338-d7812716-Reviews-Bi...</td>\n",
       "      <td>d7812716</td>\n",
       "      <td>1</td>\n",
       "      <td>4.0</td>\n",
       "    </tr>\n",
       "    <tr>\n",
       "      <th>3504</th>\n",
       "      <td>id_3504</td>\n",
       "      <td>London</td>\n",
       "      <td>['Italian', 'Pizza', 'European', 'Vegetarian F...</td>\n",
       "      <td>1228.0</td>\n",
       "      <td>$$ - $$$</td>\n",
       "      <td>230.0</td>\n",
       "      <td>[['A real taste of Italy', 'Puglia!'], ['12/22...</td>\n",
       "      <td>/Restaurant_Review-g186338-d1127947-Reviews-Ha...</td>\n",
       "      <td>d1127947</td>\n",
       "      <td>0</td>\n",
       "      <td>0.0</td>\n",
       "    </tr>\n",
       "  </tbody>\n",
       "</table>\n",
       "</div>"
      ],
      "text/plain": [
       "      Restaurant_id    City  \\\n",
       "48371       id_8623   Paris   \n",
       "41787        id_236  Dublin   \n",
       "14818        id_194  Krakow   \n",
       "41612       id_2238  London   \n",
       "3504        id_3504  London   \n",
       "\n",
       "                                           Cuisine Style  Ranking Price Range  \\\n",
       "48371                                         ['French']   8625.0         NaN   \n",
       "41787                            ['Irish', 'Bar', 'Pub']    237.0    $$ - $$$   \n",
       "14818  ['Polish', 'Bar', 'European', 'Pub', 'Vegetari...    195.0    $$ - $$$   \n",
       "41612                            ['French', 'Fast Food']   2243.0    $$ - $$$   \n",
       "3504   ['Italian', 'Pizza', 'European', 'Vegetarian F...   1228.0    $$ - $$$   \n",
       "\n",
       "       Number of Reviews                                            Reviews  \\\n",
       "48371                4.0  [['Amazing food and good prices!', 'Simple lun...   \n",
       "41787              459.0  [['Very interesting place.', 'Good beer select...   \n",
       "14818              199.0  [['Stopped for a drink, very happy', 'Interest...   \n",
       "41612              150.0  [['Very good', 'Great Tasting Burger, pity abo...   \n",
       "3504               230.0  [['A real taste of Italy', 'Puglia!'], ['12/22...   \n",
       "\n",
       "                                                  URL_TA      ID_TA  sample  \\\n",
       "48371  /Restaurant_Review-g187147-d10166205-Reviews-B...  d10166205       1   \n",
       "41787  /Restaurant_Review-g186605-d696358-Reviews-Ble...    d696358       1   \n",
       "14818  /Restaurant_Review-g274772-d6405345-Reviews-Fo...   d6405345       1   \n",
       "41612  /Restaurant_Review-g186338-d7812716-Reviews-Bi...   d7812716       1   \n",
       "3504   /Restaurant_Review-g186338-d1127947-Reviews-Ha...   d1127947       0   \n",
       "\n",
       "       Rating  \n",
       "48371     4.5  \n",
       "41787     4.0  \n",
       "14818     4.0  \n",
       "41612     4.0  \n",
       "3504      0.0  "
      ]
     },
     "execution_count": 16,
     "metadata": {},
     "output_type": "execute_result"
    }
   ],
   "source": [
    "data.sample(5)"
   ]
  },
  {
   "cell_type": "code",
   "execution_count": 17,
   "metadata": {
    "scrolled": false
   },
   "outputs": [
    {
     "data": {
      "text/plain": [
       "\"[['Very good reviews!', 'Fine dining in Hakaniemi'], ['12/05/2017', '10/29/2017']]\""
      ]
     },
     "execution_count": 17,
     "metadata": {},
     "output_type": "execute_result"
    }
   ],
   "source": [
    "data.Reviews[1]"
   ]
  },
  {
   "cell_type": "markdown",
   "metadata": {},
   "source": [
    "# Cleaning and Prepping Data incl. FE"
   ]
  },
  {
   "cell_type": "markdown",
   "metadata": {},
   "source": [
    "Большинство признаков требует очистки и предварительной обработки:\n",
    "* Необходимо будет избавиться от пустых ячеек в Cuisine Style, Price Range, Number of Reviews, Reviews\n",
    "* Привести в порядок данные с номинативными переменными\n",
    "* Номинативные переменные сделать числовыми\n",
    "* Сделать доп группировки"
   ]
  },
  {
   "cell_type": "markdown",
   "metadata": {},
   "source": [
    "## City"
   ]
  },
  {
   "cell_type": "code",
   "execution_count": 18,
   "metadata": {
    "scrolled": true
   },
   "outputs": [
    {
     "data": {
      "text/plain": [
       "31"
      ]
     },
     "execution_count": 18,
     "metadata": {},
     "output_type": "execute_result"
    }
   ],
   "source": [
    "# Посмотрим сколько у нас городов и много ли значений у каждого из городов\n",
    "data.City.nunique()"
   ]
  },
  {
   "cell_type": "code",
   "execution_count": 19,
   "metadata": {
    "scrolled": true
   },
   "outputs": [
    {
     "data": {
      "text/plain": [
       "<matplotlib.axes._subplots.AxesSubplot at 0x20c46031ec8>"
      ]
     },
     "execution_count": 19,
     "metadata": {},
     "output_type": "execute_result"
    },
    {
     "data": {
      "image/png": "[encoded data removed]",
      "text/plain": [
       "<Figure size 432x288 with 1 Axes>"
      ]
     },
     "metadata": {
      "needs_background": "light"
     },
     "output_type": "display_data"
    }
   ],
   "source": [
    "data['City'].value_counts(ascending=True).plot(kind='barh')"
   ]
  },
  {
   "cell_type": "code",
   "execution_count": 20,
   "metadata": {},
   "outputs": [
    {
     "data": {
      "text/plain": [
       "London        7193\n",
       "Paris         6108\n",
       "Madrid        3813\n",
       "Barcelona     3395\n",
       "Berlin        2705\n",
       "Milan         2694\n",
       "Rome          2589\n",
       "Prague        1816\n",
       "Lisbon        1647\n",
       "Vienna        1443\n",
       "Amsterdam     1372\n",
       "Brussels      1314\n",
       "Hamburg       1186\n",
       "Munich        1145\n",
       "Lyon          1126\n",
       "Stockholm     1033\n",
       "Budapest      1021\n",
       "Warsaw         925\n",
       "Dublin         836\n",
       "Copenhagen     819\n",
       "Athens         776\n",
       "Edinburgh      745\n",
       "Zurich         685\n",
       "Oporto         642\n",
       "Geneva         590\n",
       "Krakow         554\n",
       "Oslo           488\n",
       "Helsinki       475\n",
       "Bratislava     380\n",
       "Luxembourg     263\n",
       "Ljubljana      222\n",
       "Name: City, dtype: int64"
      ]
     },
     "execution_count": 20,
     "metadata": {},
     "output_type": "execute_result"
    }
   ],
   "source": [
    "data['City'].value_counts()"
   ]
  },
  {
   "cell_type": "markdown",
   "metadata": {},
   "source": [
    "Из графика видно, что в основном рестораны сосредоточены в крупных городах, в то время, как в маленьких выборка становится не репрезентативной, поэтому имеет смысл группировать их, например, по странам."
   ]
  },
  {
   "cell_type": "code",
   "execution_count": 21,
   "metadata": {},
   "outputs": [],
   "source": [
    "# Справочник город-страна:\n",
    "city_country = {\n",
    "    'London': 'UK',\n",
    "    'Paris': 'France',\n",
    "    'Madrid': 'Spain',\n",
    "    'Barcelona': 'Spain',\n",
    "    'Berlin': 'Germany',\n",
    "    'Milan': 'Italy',\n",
    "    'Rome': 'Italy',\n",
    "    'Prague': 'Czech',\n",
    "    'Lisbon': 'Portugal',\n",
    "    'Vienna': 'Austria',\n",
    "    'Amsterdam': 'Netherlands',\n",
    "    'Brussels': 'Belgium',\n",
    "    'Hamburg': 'Germany',\n",
    "    'Munich': 'Germany',\n",
    "    'Lyon': 'France',\n",
    "    'Stockholm': 'Sweden',\n",
    "    'Budapest': 'Hungary',\n",
    "    'Warsaw': 'Poland',\n",
    "    'Dublin': 'Ireland',\n",
    "    'Copenhagen': 'Denmark',\n",
    "    'Athens': 'Greece',\n",
    "    'Edinburgh': 'Scotland',\n",
    "    'Zurich': 'Switzerland',\n",
    "    'Oporto': 'Portugal',\n",
    "    'Geneva': 'Switzerland',\n",
    "    'Krakow': 'Poland',\n",
    "    'Oslo': 'Norway',\n",
    "    'Helsinki': 'Finland',\n",
    "    'Bratislava': 'Slovakia',\n",
    "    'Luxembourg': 'Luxembourg',\n",
    "    'Ljubljana': 'Slovenia'\n",
    "}\n",
    "\n",
    "# Создаем столбец с названием страны и трансформируем его в числовой:\n",
    "data['Country'] = data['City'].map(city_country)\n",
    "\n",
    "le = LabelEncoder()\n",
    "le.fit(data['Country'])\n",
    "data['Country Code'] = le.transform(data['Country'])\n",
    "\n",
    "# Трансформируем город в числовой вид:\n",
    "le.fit(data['City'])\n",
    "data['City Code'] = le.transform(data['City'])"
   ]
  },
  {
   "cell_type": "code",
   "execution_count": 22,
   "metadata": {},
   "outputs": [],
   "source": [
    "# Создаем dummy переменную \"Capital\"\n",
    "capitals = [\n",
    "    'London', 'Paris', 'Madrid', 'Berlin', 'Rome', 'Prague', 'Lisbon',\n",
    "    'Vienna', 'Amsterdam', 'Brussels', 'Stockholm', 'Budapest', 'Warsaw',\n",
    "    'Dublin', 'Copenhagen', 'Athens', 'Edinburgh', 'Oslo', 'Helsinki', 'Bratislava',\n",
    "    'Luxembourg', 'Ljubljana'\n",
    "]\n",
    "data['Capital'] = data['City'].apply(lambda x: 1 if x in capitals else 0)"
   ]
  },
  {
   "cell_type": "code",
   "execution_count": 23,
   "metadata": {},
   "outputs": [],
   "source": [
    "# Новая фича количество ресторанов на город \"Rest per City\"\n",
    "data['Rest per City'] = data['City'].map(\n",
    "    data.groupby(['City'])['Restaurant_id'].count().to_dict())"
   ]
  },
  {
   "cell_type": "code",
   "execution_count": 24,
   "metadata": {},
   "outputs": [],
   "source": [
    "# Новая фича количество ресторанов на душу населения \"Rest per capita\"\n",
    "population = {\n",
    "    'Paris': 2148271,\n",
    "    'Stockholm': 975904,\n",
    "    'London': 8908081,\n",
    "    'Berlin': 3769495,\n",
    "    'Munich': 1456039,\n",
    "    'Oporto': 237559,\n",
    "    'Milan': 3140181,\n",
    "    'Bratislava': 434926,\n",
    "    'Vienna': 1929944,\n",
    "    'Rome': 4257056,\n",
    "    'Barcelona': 5585556,\n",
    "    'Madrid': 6617513,\n",
    "    'Dublin': 1228179,\n",
    "    'Brussels': 2080788,\n",
    "    'Zurich': 1395356,\n",
    "    'Warsaw': 1783251,\n",
    "    'Budapest': 1768073,\n",
    "    'Copenhagen': 1346485,\n",
    "    'Amsterdam': 1148972,\n",
    "    'Lyon': 1719268,\n",
    "    'Hamburg': 1789954,\n",
    "    'Lisbon': 2956879,\n",
    "    'Prague': 1305737,\n",
    "    'Oslo': 1041377,\n",
    "    'Helsinki': 1304851,\n",
    "    'Edinburgh': 536775,\n",
    "    'Geneva': 613373,\n",
    "    'Ljubljana': 288307,\n",
    "    'Athens': 3153355,\n",
    "    'Luxembourg': 628408,\n",
    "    'Krakow': 768731\n",
    "}\n",
    "\n",
    "data['Population'] = data['City'].map(population)\n",
    "data['Rest per Capita'] = data['Rest per City'] / data['Population']"
   ]
  },
  {
   "cell_type": "markdown",
   "metadata": {},
   "source": [
    "## Cuisine Style"
   ]
  },
  {
   "cell_type": "code",
   "execution_count": 25,
   "metadata": {},
   "outputs": [
    {
     "data": {
      "text/plain": [
       "['Italian']                                                                                                                1332\n",
       "['French']                                                                                                                 1019\n",
       "['Spanish']                                                                                                                 860\n",
       "['French', 'European']                                                                                                      503\n",
       "['Cafe']                                                                                                                    500\n",
       "                                                                                                                           ... \n",
       "['Mexican', 'Bar', 'Pub', 'Street Food']                                                                                      1\n",
       "['Indian', 'Pizza', 'Barbecue', 'Halal', 'Vegetarian Friendly']                                                               1\n",
       "['Mediterranean', 'Middle Eastern', 'Egyptian', 'Vegetarian Friendly', 'Vegan Options', 'Halal', 'Gluten Free Options']       1\n",
       "['American', 'Fast Food', 'British']                                                                                          1\n",
       "['French', 'Belgian', 'European', 'Seafood', 'Vegetarian Friendly', 'Gluten Free Options']                                    1\n",
       "Name: Cuisine Style, Length: 10731, dtype: int64"
      ]
     },
     "execution_count": 25,
     "metadata": {},
     "output_type": "execute_result"
    }
   ],
   "source": [
    "data['Cuisine Style'].value_counts()  # посмотрим на данные по кухням"
   ]
  },
  {
   "cell_type": "markdown",
   "metadata": {},
   "source": [
    "Данные смешанные, надо их структурировать, посчитать количество типов кухни, и заменить NaN.\n",
    "Для этого воспользуемся рядом функций."
   ]
  },
  {
   "cell_type": "code",
   "execution_count": 26,
   "metadata": {},
   "outputs": [],
   "source": [
    "# Делаем список из кухонь и заменой NaN на региональную кухню.\n",
    "def get_cuisines(cuisines):\n",
    "    if cuisines == 'NaN':\n",
    "        return ['Regional Cusine']\n",
    "    if cuisines:\n",
    "        cuisines = str(cuisines).replace(\"'\", '\"')\n",
    "        return json.loads(cuisines)\n",
    "    else:\n",
    "        return ['Regional Cusine']\n",
    "\n",
    "\n",
    "# Считаем количество кухонь\n",
    "allCusines = []\n",
    "\n",
    "\n",
    "def cuisine_styles_count(row):\n",
    "    global allCusines\n",
    "    cusines = get_cuisines(row['Cuisine Style'])\n",
    "    if row['Cuisine Style'] != 'NaN':\n",
    "        cusines = get_cuisines(row['Cuisine Style'])\n",
    "        allCusines.extend(cusines)\n",
    "        cuisines_count = len(cusines)\n",
    "    else:\n",
    "        cuisines_count = 1\n",
    "    return cuisines_count"
   ]
  },
  {
   "cell_type": "code",
   "execution_count": 27,
   "metadata": {},
   "outputs": [],
   "source": [
    "# Избавимся от пропусков\n",
    "data['Cuisine Style'] = data['Cuisine Style'].fillna('NaN')\n",
    "\n",
    "# Посчитаем количество кухонь в каждом ресторане\n",
    "data['Cuisines Count'] = data.apply(cuisine_styles_count, axis=1)"
   ]
  },
  {
   "cell_type": "code",
   "execution_count": 28,
   "metadata": {},
   "outputs": [],
   "source": [
    "# Найдем наиболее популярную кухню и среднее количество кухонь в каждом ресторане\n",
    "most_popular_cusine = pd.Series(allCusines).value_counts().index[0]\n",
    "average_cousines_count = np.round(data['Cuisines Count'].mean())"
   ]
  },
  {
   "cell_type": "code",
   "execution_count": 29,
   "metadata": {},
   "outputs": [],
   "source": [
    "# Проставим маркировку 1/0 есть ли в ресторане самая популярная кухня (isMostPopCusine) и насколько там больше кухонь vs average (isMultyCusine)\n",
    "data['isMostPopCusine'] = data['Cuisine Style'].apply(\n",
    "    lambda x: 1 if most_popular_cusine in x else 0)\n",
    "data['isMultyCusine'] = data['Cuisines Count'].apply(\n",
    "    lambda x: 1 if x >= average_cousines_count else 0)"
   ]
  },
  {
   "cell_type": "code",
   "execution_count": 30,
   "metadata": {},
   "outputs": [],
   "source": [
    "# Посчитаем количество кухонь в каждом городе\n",
    "cusines_in_city = {}\n",
    "cusines_count_in_city = {}\n",
    "for city_name, group in data.groupby('City'):\n",
    "\n",
    "    cusines = group['Cuisine Style'].apply(get_cuisines)\n",
    "\n",
    "    cusines_list = list(itertools.chain.from_iterable(cusines))\n",
    "    cusines_in_city[city_name] = Counter(cusines_list)\n",
    "\n",
    "for city_name in cusines_in_city.keys():\n",
    "    cusines_count_in_city[city_name] = len(cusines_in_city[city_name])\n",
    "\n",
    "data['Cusines Count In City'] = data['City'].map(cusines_count_in_city)"
   ]
  },
  {
   "cell_type": "markdown",
   "metadata": {},
   "source": [
    "## Ranking"
   ]
  },
  {
   "cell_type": "code",
   "execution_count": 31,
   "metadata": {},
   "outputs": [],
   "source": [
    "# Новая фича \"Relative Ranking\" - средневзевешенный на кол-во ресторанов в городе рэнкинг\n",
    "data['Relative Ranking'] = data['Ranking'] / data['Rest per City']"
   ]
  },
  {
   "cell_type": "markdown",
   "metadata": {},
   "source": [
    "## Rating"
   ]
  },
  {
   "cell_type": "code",
   "execution_count": 32,
   "metadata": {
    "scrolled": false
   },
   "outputs": [
    {
     "data": {
      "text/plain": [
       "4.0    13692\n",
       "4.5    10929\n",
       "0.0    10000\n",
       "3.5     6824\n",
       "5.0     3879\n",
       "3.0     2955\n",
       "2.5      915\n",
       "2.0      466\n",
       "1.0      201\n",
       "1.5      139\n",
       "Name: Rating, dtype: int64"
      ]
     },
     "execution_count": 32,
     "metadata": {},
     "output_type": "execute_result"
    }
   ],
   "source": [
    "data['Rating'].value_counts()"
   ]
  },
  {
   "cell_type": "code",
   "execution_count": 33,
   "metadata": {},
   "outputs": [],
   "source": [
    "# Функция оркугления рейтинга до 0.5 (понадобится в конце)\n",
    "def round_of_rating(number):\n",
    "    return np.round(number * 2) / 2"
   ]
  },
  {
   "cell_type": "markdown",
   "metadata": {},
   "source": [
    "Мы видим, что у нашей главной целевой переменной много 0, что может ухудшить точность нашей модели. Но пока мы ничего с ней не делаем."
   ]
  },
  {
   "cell_type": "markdown",
   "metadata": {},
   "source": [
    "## Pricing"
   ]
  },
  {
   "cell_type": "code",
   "execution_count": 34,
   "metadata": {
    "scrolled": true
   },
   "outputs": [
    {
     "data": {
      "text/plain": [
       "$$ - $$$    23041\n",
       "$            7816\n",
       "$$$$         1782\n",
       "Name: Price Range, dtype: int64"
      ]
     },
     "execution_count": 34,
     "metadata": {},
     "output_type": "execute_result"
    }
   ],
   "source": [
    "data['Price Range'].value_counts()"
   ]
  },
  {
   "cell_type": "markdown",
   "metadata": {},
   "source": [
    "Мы видим, что цены варьируются в 3 диапазонах, которые легко можно оцифровать от 0 до 2, где 0 - самый дешевый ресторан и 2 - самый дорогой.\n",
    "Также мы знаем, что у данной переменной есть пустые значения, которые мы заполним на среднее значение."
   ]
  },
  {
   "cell_type": "code",
   "execution_count": 35,
   "metadata": {},
   "outputs": [],
   "source": [
    "# Вводим dummy переменную \"Price\" вместо \"Price Range\" с заменой NaN на среднее:\n",
    "price_range = {'$': 0, '$$ - $$$': 1, '$$$$': 2}\n",
    "data['Price'] = data['Price Range'].map(price_range)\n",
    "data['Price'].fillna(data['Price'].mean(), inplace=True)\n",
    "del data['Price Range']"
   ]
  },
  {
   "cell_type": "markdown",
   "metadata": {},
   "source": [
    "## Number of Reviews"
   ]
  },
  {
   "cell_type": "code",
   "execution_count": 36,
   "metadata": {},
   "outputs": [],
   "source": [
    "# Заменяем пустоты в количестве просмотров средним.\n",
    "data['Number of Reviews'].fillna(\n",
    "    data['Number of Reviews'].mean(), inplace=True)"
   ]
  },
  {
   "cell_type": "markdown",
   "metadata": {},
   "source": [
    "## Reviews"
   ]
  },
  {
   "cell_type": "code",
   "execution_count": 37,
   "metadata": {},
   "outputs": [],
   "source": [
    "# Убираем NaN\n",
    "data['Reviews'] = data['Reviews'].fillna('[[], []]')\n",
    "\n",
    "# Новая фича \"Reviews per a City\" + заполнение пустот средним количеством\n",
    "data['Reviews per City'] = data['Number of Reviews'].map(\n",
    "    data.groupby(['Number of Reviews'])['Number of Reviews'].count().to_dict())"
   ]
  },
  {
   "cell_type": "markdown",
   "metadata": {},
   "source": [
    "Мы знаем из части выше, что отзывы содержат в себе характеристику положительный/негативный-> можно присвоить тональность и дату. Нам нужно вытащить максимум информации из данного поля.\n",
    "Начнем с написания функций, которые упростят нам жизнь."
   ]
  },
  {
   "cell_type": "code",
   "execution_count": 38,
   "metadata": {},
   "outputs": [],
   "source": [
    "# Добавляем переменные с текстом отзыва и датой\n",
    "def get_reviews(rev):\n",
    "    if not pd.isna(rev):\n",
    "        rev = str(rev).replace(\"'\", '\"')\n",
    "        rev = rev.replace('], [', '], \"reviews_dt\": [')\n",
    "        rev = '{ \"reviews_txt\":' + rev + '}'\n",
    "        rev = rev.replace('[[', '[').replace(']]', ']')\n",
    "        d = json.loads(rev)\n",
    "        d['reviews_dt'] = [dt.datetime.strptime(date, '%m/%d/%Y').date() if len(date.split(\n",
    "            '/')[2]) == 4 else dt.datetime.strptime(date, '%m/%d/%y').date() for date in d['reviews_dt']]\n",
    "        return d\n",
    "    else:\n",
    "        return {}\n",
    "\n",
    "# Очищаем текст\n",
    "\n",
    "\n",
    "def cleanup_string(str_in):\n",
    "    try:\n",
    "        str = str_in.replace(\"', \\\"\", \"⅞\").replace(\n",
    "            \"', '\", \"⅞\").replace(\"\\\", '\", \"⅞\").replace(\"\\\", \\\"\", \"⅞\")\n",
    "        str = str.replace(\"\\\", \\\"\\\"\", \"⅞\").replace(\n",
    "            \"\\\"\\\", '\", \"⅞\").replace(\"\\\", \\'\", \"⅞\").replace(\"\\\"\\\", \\'\", \"⅞\")\n",
    "        str = str.replace(\"\\', \\'\", \"⅞\")\n",
    "\n",
    "        str = str.replace(\"[['\", \"≤\").replace(\"['\", \"⅛\")\n",
    "\n",
    "        str = str.replace(\"']]\", \"≥\").replace(\"']\", \"⅝\")\n",
    "\n",
    "        str = str.replace('\\'', ' ').replace(\n",
    "            '\\\"', ' ').replace('\\'', ' ').replace('\"', ' ')\n",
    "        str = str.replace(\"\\\\\", \" \").replace(\"[[`\", \"≤\").replace(\n",
    "            '\\'\"', '\\'').replace('\\'\\\"', '\\'')\n",
    "        str = str.replace('\"\\'', '\\'').replace(\n",
    "            '\\\"\\'', '\\'').replace(\"[''\", \"≤\").replace(\"[\\'\\'\", \"≤\")\n",
    "        str = str.replace('\\'', ' ').replace('\\\"', ' ')\n",
    "        str = str.replace('\\'', ' ').replace('\\\"', ' ')\n",
    "        str = str.replace('\\'', ' ').replace('\"', ' ')\n",
    "\n",
    "        str = str.replace(\"⅞\", \"', '\")\n",
    "\n",
    "        str = str.replace(\"≤\", \"[['\").replace(\n",
    "            \"⅛\", \"['\").replace('[[ ', '[[ \\'')\n",
    "\n",
    "        str = str.replace(\"≥\", \"']]\").replace(\"⅝\", \"']\").replace(' ]', ' \\']')\n",
    "        str = str.replace(\n",
    "            ', nan]', '\\', \\'nan\\']').replace('[nan, ', '[\\'nan\\', \\'')\n",
    "    except Exception:\n",
    "        print('<----', str_in, '---->')\n",
    "    return str\n",
    "\n",
    "# Вычисляем время между отзывами в днях (подсказка была в тестовом задании)\n",
    "\n",
    "\n",
    "def rev_time_delta(reviews):\n",
    "    if (pd.notna(reviews)):\n",
    "        reviews_dt_list = get_reviews(reviews)['reviews_dt']\n",
    "        if reviews_dt_list:\n",
    "            return (max(reviews_dt_list) - min(reviews_dt_list)).days\n",
    "        else:\n",
    "            return dt.timedelta(days=3650).days\n",
    "    else:\n",
    "        return dt.timedelta(days=3650).days"
   ]
  },
  {
   "cell_type": "code",
   "execution_count": 39,
   "metadata": {},
   "outputs": [],
   "source": [
    "# Функция создания списка со словами\n",
    "def createWordList(line):\n",
    "    wordList2 = []\n",
    "    wordList1 = line.split()\n",
    "    for word in wordList1:\n",
    "        cleanWord = \"\"\n",
    "        for char in word:\n",
    "            if char in '!,.?\":;0123456789':\n",
    "                char = \"\"\n",
    "            cleanWord += char\n",
    "        wordList2.append(cleanWord.lower())\n",
    "    return wordList2\n",
    "\n",
    "# Функция подсчета позитивных слов\n",
    "\n",
    "\n",
    "def count_positive_words_proportion(reviews):\n",
    "    pos_words_count = 0\n",
    "    txts = get_reviews(reviews)['reviews_txt']\n",
    "    txt = ' '.join(txts)\n",
    "    words = createWordList(txt)\n",
    "\n",
    "    words_count = len(words) if len(words) > 0 else 1\n",
    "    words_count = 1\n",
    "    pos_words_in_review = set(words).intersection(pos_words_list)\n",
    "    for word in words:\n",
    "        if word in pos_words_list:\n",
    "            pos_words_count += 1\n",
    "    return np.round(pos_words_count/words_count, 2)"
   ]
  },
  {
   "cell_type": "markdown",
   "metadata": {},
   "source": [
    "Далее проработаем сами данные и посчитаем необходимые нам переменные"
   ]
  },
  {
   "cell_type": "code",
   "execution_count": 40,
   "metadata": {},
   "outputs": [],
   "source": [
    "# Приводим в нормальный вид текст отзывов\n",
    "data['Reviews'] = data['Reviews'].apply(lambda x: cleanup_string(x))\n",
    "\n",
    "# Введем переменную \"RevDelta\" - время между отзывами в днях\n",
    "data['RevDelta'] = data['Reviews'].apply(rev_time_delta)\n",
    "\n",
    "# Посчитаем количество позитивных слов в отзывах\n",
    "data['PositiveWords'] = data['Reviews'].apply(\n",
    "    lambda x: count_positive_words_proportion(x))"
   ]
  },
  {
   "cell_type": "markdown",
   "metadata": {},
   "source": [
    "# EDA "
   ]
  },
  {
   "cell_type": "markdown",
   "metadata": {},
   "source": [
    "### Посмотрим распределение признака"
   ]
  },
  {
   "cell_type": "code",
   "execution_count": 41,
   "metadata": {},
   "outputs": [
    {
     "data": {
      "text/plain": [
       "<matplotlib.axes._subplots.AxesSubplot at 0x20c45a42908>"
      ]
     },
     "execution_count": 41,
     "metadata": {},
     "output_type": "execute_result"
    },
    {
     "data": {
      "image/png": "[encoded data removed]",
      "text/plain": [
       "<Figure size 720x504 with 1 Axes>"
      ]
     },
     "metadata": {
      "needs_background": "light"
     },
     "output_type": "display_data"
    }
   ],
   "source": [
    "plt.rcParams['figure.figsize'] = (10, 7)\n",
    "df_train['Ranking'].hist(bins=100)"
   ]
  },
  {
   "cell_type": "code",
   "execution_count": 42,
   "metadata": {},
   "outputs": [
    {
     "data": {
      "image/png": "[encoded data removed]",
      "text/plain": [
       "<Figure size 720x504 with 1 Axes>"
      ]
     },
     "metadata": {
      "needs_background": "light"
     },
     "output_type": "display_data"
    }
   ],
   "source": [
    "# посмотрим на топ 10 городов\n",
    "for x in (df_train['City'].value_counts())[0:10].index:\n",
    "    df_train['Ranking'][df_train['City'] == x].hist(bins=100)\n",
    "plt.show()"
   ]
  },
  {
   "cell_type": "markdown",
   "metadata": {},
   "source": [
    "### Посмотрим распределение целевой переменной"
   ]
  },
  {
   "cell_type": "code",
   "execution_count": 43,
   "metadata": {},
   "outputs": [
    {
     "data": {
      "text/plain": [
       "<matplotlib.axes._subplots.AxesSubplot at 0x20c49664fc8>"
      ]
     },
     "execution_count": 43,
     "metadata": {},
     "output_type": "execute_result"
    },
    {
     "data": {
      "image/png": "[encoded data removed]",
      "text/plain": [
       "<Figure size 720x504 with 1 Axes>"
      ]
     },
     "metadata": {
      "needs_background": "light"
     },
     "output_type": "display_data"
    }
   ],
   "source": [
    "df_train['Rating'].value_counts(ascending=True).plot(kind='barh')"
   ]
  },
  {
   "cell_type": "markdown",
   "metadata": {},
   "source": [
    "### Посмотрим распределение целевой переменной относительно признака"
   ]
  },
  {
   "cell_type": "code",
   "execution_count": 44,
   "metadata": {},
   "outputs": [
    {
     "data": {
      "text/plain": [
       "<matplotlib.axes._subplots.AxesSubplot at 0x20c499938c8>"
      ]
     },
     "execution_count": 44,
     "metadata": {},
     "output_type": "execute_result"
    },
    {
     "data": {
      "image/png": "[encoded data removed]",
      "text/plain": [
       "<Figure size 720x504 with 1 Axes>"
      ]
     },
     "metadata": {
      "needs_background": "light"
     },
     "output_type": "display_data"
    }
   ],
   "source": [
    "df_train['Ranking'][df_train['Rating'] == 5].hist(bins=100)"
   ]
  },
  {
   "cell_type": "code",
   "execution_count": 45,
   "metadata": {},
   "outputs": [
    {
     "data": {
      "text/plain": [
       "<matplotlib.axes._subplots.AxesSubplot at 0x20c49909b08>"
      ]
     },
     "execution_count": 45,
     "metadata": {},
     "output_type": "execute_result"
    },
    {
     "data": {
      "image/png": "[encoded data removed]",
      "text/plain": [
       "<Figure size 720x504 with 1 Axes>"
      ]
     },
     "metadata": {
      "needs_background": "light"
     },
     "output_type": "display_data"
    }
   ],
   "source": [
    "df_train['Ranking'][df_train['Rating'] < 4].hist(bins=100)"
   ]
  },
  {
   "cell_type": "markdown",
   "metadata": {},
   "source": [
    "### Корреляция признаков"
   ]
  },
  {
   "cell_type": "code",
   "execution_count": 46,
   "metadata": {},
   "outputs": [
    {
     "data": {
      "text/plain": [
       "<matplotlib.axes._subplots.AxesSubplot at 0x20c496b8d48>"
      ]
     },
     "execution_count": 46,
     "metadata": {},
     "output_type": "execute_result"
    },
    {
     "data": {
      "image/png": "[encoded data removed]",
      "text/plain": [
       "<Figure size 1080x720 with 2 Axes>"
      ]
     },
     "metadata": {
      "needs_background": "light"
     },
     "output_type": "display_data"
    }
   ],
   "source": [
    "plt.rcParams['figure.figsize'] = (15, 10)\n",
    "sns.heatmap(data.drop(['sample'], axis=1).corr(),)"
   ]
  },
  {
   "cell_type": "markdown",
   "metadata": {},
   "source": [
    "Из графика видно, что корреляция между Rating и нашими переменными стала больше vs baseline (цвет диаграммы в разы светлее, что говорит о более высокой степени корреляции), а также о том, что она носит в основном положительный характер, хотя есть и переменные с негативной корреляцией между друг другом."
   ]
  },
  {
   "cell_type": "markdown",
   "metadata": {},
   "source": [
    "# Data Processing"
   ]
  },
  {
   "cell_type": "code",
   "execution_count": 47,
   "metadata": {},
   "outputs": [],
   "source": [
    "# Убираем не нужные для модели признаки (мы их знаем из нашего исследования выше - те, что не несут нагрузки и уже были нами заменены числовыми форматами)\n",
    "data.drop(['Restaurant_id', 'URL_TA', 'ID_TA', 'City',\n",
    "           'Cuisine Style', 'Reviews', 'Country'], axis=1, inplace=True)"
   ]
  },
  {
   "cell_type": "code",
   "execution_count": 48,
   "metadata": {
    "scrolled": true
   },
   "outputs": [
    {
     "name": "stdout",
     "output_type": "stream",
     "text": [
      "<class 'pandas.core.frame.DataFrame'>\n",
      "RangeIndex: 50000 entries, 0 to 49999\n",
      "Data columns (total 19 columns):\n",
      " #   Column                 Non-Null Count  Dtype  \n",
      "---  ------                 --------------  -----  \n",
      " 0   Ranking                50000 non-null  float64\n",
      " 1   Number of Reviews      50000 non-null  float64\n",
      " 2   sample                 50000 non-null  int64  \n",
      " 3   Rating                 50000 non-null  float64\n",
      " 4   Country Code           50000 non-null  int32  \n",
      " 5   City Code              50000 non-null  int32  \n",
      " 6   Capital                50000 non-null  int64  \n",
      " 7   Rest per City          50000 non-null  int64  \n",
      " 8   Population             50000 non-null  int64  \n",
      " 9   Rest per Capita        50000 non-null  float64\n",
      " 10  Cuisines Count         50000 non-null  int64  \n",
      " 11  isMostPopCusine        50000 non-null  int64  \n",
      " 12  isMultyCusine          50000 non-null  int64  \n",
      " 13  Cusines Count In City  50000 non-null  int64  \n",
      " 14  Relative Ranking       50000 non-null  float64\n",
      " 15  Price                  50000 non-null  float64\n",
      " 16  Reviews per City       50000 non-null  int64  \n",
      " 17  RevDelta               50000 non-null  int64  \n",
      " 18  PositiveWords          50000 non-null  float64\n",
      "dtypes: float64(7), int32(2), int64(10)\n",
      "memory usage: 6.9 MB\n"
     ]
    }
   ],
   "source": [
    "data.info()"
   ]
  },
  {
   "cell_type": "code",
   "execution_count": 49,
   "metadata": {},
   "outputs": [],
   "source": [
    "# Теперь выделим тестовую часть\n",
    "train_data = data.query('sample == 1').drop(['sample'], axis=1)\n",
    "test_data = data.query('sample == 0').drop(['sample'], axis=1)\n",
    "\n",
    "y = train_data.Rating.values  # наш таргет\n",
    "X = train_data.drop(['Rating'], axis=1)"
   ]
  },
  {
   "cell_type": "markdown",
   "metadata": {},
   "source": [
    "**Разделим данные на еще один тест и трейн, для валидации. Это поможет нам проверить, как хорошо наша модель работает, до отправки submissiona на kaggle.**"
   ]
  },
  {
   "cell_type": "code",
   "execution_count": 50,
   "metadata": {},
   "outputs": [],
   "source": [
    "# Воспользуемся специальной функцие train_test_split для разбивки тестовых данных\n",
    "# выделим 20% данных на валидацию (параметр test_size)\n",
    "X_train, X_test, y_train, y_test = train_test_split(\n",
    "    X, y, test_size=0.2, random_state=RANDOM_SEED)"
   ]
  },
  {
   "cell_type": "code",
   "execution_count": 51,
   "metadata": {},
   "outputs": [
    {
     "data": {
      "text/plain": [
       "((10000, 18), (40000, 18), (40000, 17), (32000, 17), (8000, 17))"
      ]
     },
     "execution_count": 51,
     "metadata": {},
     "output_type": "execute_result"
    }
   ],
   "source": [
    "# проверяем\n",
    "test_data.shape, train_data.shape, X.shape, X_train.shape, X_test.shape"
   ]
  },
  {
   "cell_type": "markdown",
   "metadata": {},
   "source": [
    "# Model "
   ]
  },
  {
   "cell_type": "code",
   "execution_count": 52,
   "metadata": {},
   "outputs": [],
   "source": [
    "# Создаём модель\n",
    "model = RandomForestRegressor(\n",
    "    n_estimators=100, verbose=1, n_jobs=-1, random_state=RANDOM_SEED)"
   ]
  },
  {
   "cell_type": "code",
   "execution_count": 53,
   "metadata": {
    "scrolled": true
   },
   "outputs": [
    {
     "name": "stderr",
     "output_type": "stream",
     "text": [
      "[Parallel(n_jobs=-1)]: Using backend ThreadingBackend with 4 concurrent workers.\n",
      "[Parallel(n_jobs=-1)]: Done  42 tasks      | elapsed:    3.6s\n",
      "[Parallel(n_jobs=-1)]: Done 100 out of 100 | elapsed:    9.9s finished\n",
      "[Parallel(n_jobs=4)]: Using backend ThreadingBackend with 4 concurrent workers.\n",
      "[Parallel(n_jobs=4)]: Done  42 tasks      | elapsed:    0.0s\n",
      "[Parallel(n_jobs=4)]: Done 100 out of 100 | elapsed:    0.0s finished\n"
     ]
    }
   ],
   "source": [
    "# Обучаем модель на тестовом наборе данных\n",
    "model.fit(X_train, y_train)\n",
    "\n",
    "# Используем обученную модель для предсказания рейтинга ресторанов в тестовой выборке.\n",
    "# Предсказанные значения записываем в переменную y_pred\n",
    "y_pred = model.predict(X_test)"
   ]
  },
  {
   "cell_type": "code",
   "execution_count": 54,
   "metadata": {},
   "outputs": [],
   "source": [
    "y_pred = round_of_rating(y_pred)  # округлим рейтинг"
   ]
  },
  {
   "cell_type": "code",
   "execution_count": 55,
   "metadata": {
    "scrolled": true
   },
   "outputs": [
    {
     "name": "stdout",
     "output_type": "stream",
     "text": [
      "MAE: 0.1775\n"
     ]
    }
   ],
   "source": [
    "# Сравниваем предсказанные значения (y_pred) с реальными (y_test), и смотрим насколько они в среднем отличаются\n",
    "print('MAE:', metrics.mean_absolute_error(y_test, y_pred))"
   ]
  },
  {
   "cell_type": "markdown",
   "metadata": {},
   "source": [
    "Ура! Получилось лучше, чем в baseline :) Но есть еще куда стремиться)"
   ]
  },
  {
   "cell_type": "code",
   "execution_count": 56,
   "metadata": {},
   "outputs": [
    {
     "data": {
      "text/plain": [
       "<matplotlib.axes._subplots.AxesSubplot at 0x20c48f5dd48>"
      ]
     },
     "execution_count": 56,
     "metadata": {},
     "output_type": "execute_result"
    },
    {
     "data": {
      "image/png": "[encoded data removed]",
      "text/plain": [
       "<Figure size 720x720 with 1 Axes>"
      ]
     },
     "metadata": {
      "needs_background": "light"
     },
     "output_type": "display_data"
    }
   ],
   "source": [
    "# в RandomForestRegressor выводим важные признаки для модели\n",
    "plt.rcParams['figure.figsize'] = (10, 10)\n",
    "feat_importances = pd.Series(model.feature_importances_, index=X.columns)\n",
    "feat_importances.nlargest(15).plot(kind='barh')"
   ]
  },
  {
   "cell_type": "markdown",
   "metadata": {},
   "source": [
    "# Submission\n",
    "Готовим Submission на кагл"
   ]
  },
  {
   "cell_type": "code",
   "execution_count": 57,
   "metadata": {},
   "outputs": [
    {
     "data": {
      "text/html": [
       "<div>\n",
       "<style scoped>\n",
       "    .dataframe tbody tr th:only-of-type {\n",
       "        vertical-align: middle;\n",
       "    }\n",
       "\n",
       "    .dataframe tbody tr th {\n",
       "        vertical-align: top;\n",
       "    }\n",
       "\n",
       "    .dataframe thead th {\n",
       "        text-align: right;\n",
       "    }\n",
       "</style>\n",
       "<table border=\"1\" class=\"dataframe\">\n",
       "  <thead>\n",
       "    <tr style=\"text-align: right;\">\n",
       "      <th></th>\n",
       "      <th>Ranking</th>\n",
       "      <th>Number of Reviews</th>\n",
       "      <th>Rating</th>\n",
       "      <th>Country Code</th>\n",
       "      <th>City Code</th>\n",
       "      <th>Capital</th>\n",
       "      <th>Rest per City</th>\n",
       "      <th>Population</th>\n",
       "      <th>Rest per Capita</th>\n",
       "      <th>Cuisines Count</th>\n",
       "      <th>isMostPopCusine</th>\n",
       "      <th>isMultyCusine</th>\n",
       "      <th>Cusines Count In City</th>\n",
       "      <th>Relative Ranking</th>\n",
       "      <th>Price</th>\n",
       "      <th>Reviews per City</th>\n",
       "      <th>RevDelta</th>\n",
       "      <th>PositiveWords</th>\n",
       "    </tr>\n",
       "  </thead>\n",
       "  <tbody>\n",
       "    <tr>\n",
       "      <th>368</th>\n",
       "      <td>12313.0</td>\n",
       "      <td>133.0</td>\n",
       "      <td>0.0</td>\n",
       "      <td>22</td>\n",
       "      <td>16</td>\n",
       "      <td>1</td>\n",
       "      <td>7193</td>\n",
       "      <td>8908081</td>\n",
       "      <td>0.000807</td>\n",
       "      <td>1</td>\n",
       "      <td>0</td>\n",
       "      <td>0</td>\n",
       "      <td>111</td>\n",
       "      <td>1.711803</td>\n",
       "      <td>1.000000</td>\n",
       "      <td>66</td>\n",
       "      <td>86</td>\n",
       "      <td>1.0</td>\n",
       "    </tr>\n",
       "    <tr>\n",
       "      <th>3670</th>\n",
       "      <td>8850.0</td>\n",
       "      <td>59.0</td>\n",
       "      <td>0.0</td>\n",
       "      <td>5</td>\n",
       "      <td>24</td>\n",
       "      <td>1</td>\n",
       "      <td>6108</td>\n",
       "      <td>2148271</td>\n",
       "      <td>0.002843</td>\n",
       "      <td>2</td>\n",
       "      <td>0</td>\n",
       "      <td>0</td>\n",
       "      <td>103</td>\n",
       "      <td>1.448919</td>\n",
       "      <td>1.000000</td>\n",
       "      <td>175</td>\n",
       "      <td>99</td>\n",
       "      <td>3.0</td>\n",
       "    </tr>\n",
       "    <tr>\n",
       "      <th>8205</th>\n",
       "      <td>2523.0</td>\n",
       "      <td>3.0</td>\n",
       "      <td>0.0</td>\n",
       "      <td>2</td>\n",
       "      <td>25</td>\n",
       "      <td>1</td>\n",
       "      <td>1816</td>\n",
       "      <td>1305737</td>\n",
       "      <td>0.001391</td>\n",
       "      <td>1</td>\n",
       "      <td>0</td>\n",
       "      <td>0</td>\n",
       "      <td>83</td>\n",
       "      <td>1.389317</td>\n",
       "      <td>0.815129</td>\n",
       "      <td>2042</td>\n",
       "      <td>0</td>\n",
       "      <td>1.0</td>\n",
       "    </tr>\n",
       "    <tr>\n",
       "      <th>9</th>\n",
       "      <td>605.0</td>\n",
       "      <td>13.0</td>\n",
       "      <td>0.0</td>\n",
       "      <td>20</td>\n",
       "      <td>27</td>\n",
       "      <td>1</td>\n",
       "      <td>1033</td>\n",
       "      <td>975904</td>\n",
       "      <td>0.001059</td>\n",
       "      <td>1</td>\n",
       "      <td>0</td>\n",
       "      <td>0</td>\n",
       "      <td>78</td>\n",
       "      <td>0.585673</td>\n",
       "      <td>0.815129</td>\n",
       "      <td>691</td>\n",
       "      <td>34</td>\n",
       "      <td>2.0</td>\n",
       "    </tr>\n",
       "    <tr>\n",
       "      <th>8246</th>\n",
       "      <td>1644.0</td>\n",
       "      <td>74.0</td>\n",
       "      <td>0.0</td>\n",
       "      <td>5</td>\n",
       "      <td>18</td>\n",
       "      <td>0</td>\n",
       "      <td>1126</td>\n",
       "      <td>1719268</td>\n",
       "      <td>0.000655</td>\n",
       "      <td>2</td>\n",
       "      <td>0</td>\n",
       "      <td>0</td>\n",
       "      <td>74</td>\n",
       "      <td>1.460036</td>\n",
       "      <td>1.000000</td>\n",
       "      <td>139</td>\n",
       "      <td>3650</td>\n",
       "      <td>0.0</td>\n",
       "    </tr>\n",
       "    <tr>\n",
       "      <th>1139</th>\n",
       "      <td>1688.0</td>\n",
       "      <td>11.0</td>\n",
       "      <td>0.0</td>\n",
       "      <td>12</td>\n",
       "      <td>0</td>\n",
       "      <td>1</td>\n",
       "      <td>1372</td>\n",
       "      <td>1148972</td>\n",
       "      <td>0.001194</td>\n",
       "      <td>1</td>\n",
       "      <td>0</td>\n",
       "      <td>0</td>\n",
       "      <td>86</td>\n",
       "      <td>1.230321</td>\n",
       "      <td>0.815129</td>\n",
       "      <td>807</td>\n",
       "      <td>14</td>\n",
       "      <td>3.0</td>\n",
       "    </tr>\n",
       "    <tr>\n",
       "      <th>8294</th>\n",
       "      <td>12794.0</td>\n",
       "      <td>20.0</td>\n",
       "      <td>0.0</td>\n",
       "      <td>5</td>\n",
       "      <td>24</td>\n",
       "      <td>1</td>\n",
       "      <td>6108</td>\n",
       "      <td>2148271</td>\n",
       "      <td>0.002843</td>\n",
       "      <td>1</td>\n",
       "      <td>0</td>\n",
       "      <td>0</td>\n",
       "      <td>103</td>\n",
       "      <td>2.094630</td>\n",
       "      <td>0.815129</td>\n",
       "      <td>485</td>\n",
       "      <td>0</td>\n",
       "      <td>3.0</td>\n",
       "    </tr>\n",
       "    <tr>\n",
       "      <th>4640</th>\n",
       "      <td>868.0</td>\n",
       "      <td>17.0</td>\n",
       "      <td>0.0</td>\n",
       "      <td>21</td>\n",
       "      <td>30</td>\n",
       "      <td>0</td>\n",
       "      <td>685</td>\n",
       "      <td>1395356</td>\n",
       "      <td>0.000491</td>\n",
       "      <td>6</td>\n",
       "      <td>1</td>\n",
       "      <td>1</td>\n",
       "      <td>78</td>\n",
       "      <td>1.267153</td>\n",
       "      <td>0.000000</td>\n",
       "      <td>560</td>\n",
       "      <td>377</td>\n",
       "      <td>2.0</td>\n",
       "    </tr>\n",
       "    <tr>\n",
       "      <th>615</th>\n",
       "      <td>132.0</td>\n",
       "      <td>47.0</td>\n",
       "      <td>0.0</td>\n",
       "      <td>5</td>\n",
       "      <td>18</td>\n",
       "      <td>0</td>\n",
       "      <td>1126</td>\n",
       "      <td>1719268</td>\n",
       "      <td>0.000655</td>\n",
       "      <td>1</td>\n",
       "      <td>0</td>\n",
       "      <td>0</td>\n",
       "      <td>74</td>\n",
       "      <td>0.117229</td>\n",
       "      <td>0.815129</td>\n",
       "      <td>188</td>\n",
       "      <td>0</td>\n",
       "      <td>1.0</td>\n",
       "    </tr>\n",
       "    <tr>\n",
       "      <th>3933</th>\n",
       "      <td>245.0</td>\n",
       "      <td>261.0</td>\n",
       "      <td>0.0</td>\n",
       "      <td>0</td>\n",
       "      <td>28</td>\n",
       "      <td>1</td>\n",
       "      <td>1443</td>\n",
       "      <td>1929944</td>\n",
       "      <td>0.000748</td>\n",
       "      <td>6</td>\n",
       "      <td>1</td>\n",
       "      <td>1</td>\n",
       "      <td>90</td>\n",
       "      <td>0.169785</td>\n",
       "      <td>1.000000</td>\n",
       "      <td>31</td>\n",
       "      <td>117</td>\n",
       "      <td>1.0</td>\n",
       "    </tr>\n",
       "  </tbody>\n",
       "</table>\n",
       "</div>"
      ],
      "text/plain": [
       "      Ranking  Number of Reviews  Rating  Country Code  City Code  Capital  \\\n",
       "368   12313.0              133.0     0.0            22         16        1   \n",
       "3670   8850.0               59.0     0.0             5         24        1   \n",
       "8205   2523.0                3.0     0.0             2         25        1   \n",
       "9       605.0               13.0     0.0            20         27        1   \n",
       "8246   1644.0               74.0     0.0             5         18        0   \n",
       "1139   1688.0               11.0     0.0            12          0        1   \n",
       "8294  12794.0               20.0     0.0             5         24        1   \n",
       "4640    868.0               17.0     0.0            21         30        0   \n",
       "615     132.0               47.0     0.0             5         18        0   \n",
       "3933    245.0              261.0     0.0             0         28        1   \n",
       "\n",
       "      Rest per City  Population  Rest per Capita  Cuisines Count  \\\n",
       "368            7193     8908081         0.000807               1   \n",
       "3670           6108     2148271         0.002843               2   \n",
       "8205           1816     1305737         0.001391               1   \n",
       "9              1033      975904         0.001059               1   \n",
       "8246           1126     1719268         0.000655               2   \n",
       "1139           1372     1148972         0.001194               1   \n",
       "8294           6108     2148271         0.002843               1   \n",
       "4640            685     1395356         0.000491               6   \n",
       "615            1126     1719268         0.000655               1   \n",
       "3933           1443     1929944         0.000748               6   \n",
       "\n",
       "      isMostPopCusine  isMultyCusine  Cusines Count In City  Relative Ranking  \\\n",
       "368                 0              0                    111          1.711803   \n",
       "3670                0              0                    103          1.448919   \n",
       "8205                0              0                     83          1.389317   \n",
       "9                   0              0                     78          0.585673   \n",
       "8246                0              0                     74          1.460036   \n",
       "1139                0              0                     86          1.230321   \n",
       "8294                0              0                    103          2.094630   \n",
       "4640                1              1                     78          1.267153   \n",
       "615                 0              0                     74          0.117229   \n",
       "3933                1              1                     90          0.169785   \n",
       "\n",
       "         Price  Reviews per City  RevDelta  PositiveWords  \n",
       "368   1.000000                66        86            1.0  \n",
       "3670  1.000000               175        99            3.0  \n",
       "8205  0.815129              2042         0            1.0  \n",
       "9     0.815129               691        34            2.0  \n",
       "8246  1.000000               139      3650            0.0  \n",
       "1139  0.815129               807        14            3.0  \n",
       "8294  0.815129               485         0            3.0  \n",
       "4640  0.000000               560       377            2.0  \n",
       "615   0.815129               188         0            1.0  \n",
       "3933  1.000000                31       117            1.0  "
      ]
     },
     "execution_count": 57,
     "metadata": {},
     "output_type": "execute_result"
    }
   ],
   "source": [
    "test_data.sample(10)"
   ]
  },
  {
   "cell_type": "code",
   "execution_count": 58,
   "metadata": {},
   "outputs": [],
   "source": [
    "test_data = test_data.drop(['Rating'], axis=1)"
   ]
  },
  {
   "cell_type": "code",
   "execution_count": 59,
   "metadata": {},
   "outputs": [
    {
     "data": {
      "text/html": [
       "<div>\n",
       "<style scoped>\n",
       "    .dataframe tbody tr th:only-of-type {\n",
       "        vertical-align: middle;\n",
       "    }\n",
       "\n",
       "    .dataframe tbody tr th {\n",
       "        vertical-align: top;\n",
       "    }\n",
       "\n",
       "    .dataframe thead th {\n",
       "        text-align: right;\n",
       "    }\n",
       "</style>\n",
       "<table border=\"1\" class=\"dataframe\">\n",
       "  <thead>\n",
       "    <tr style=\"text-align: right;\">\n",
       "      <th></th>\n",
       "      <th>Restaurant_id</th>\n",
       "      <th>Rating</th>\n",
       "    </tr>\n",
       "  </thead>\n",
       "  <tbody>\n",
       "    <tr>\n",
       "      <th>0</th>\n",
       "      <td>id_0</td>\n",
       "      <td>2.0</td>\n",
       "    </tr>\n",
       "    <tr>\n",
       "      <th>1</th>\n",
       "      <td>id_1</td>\n",
       "      <td>2.5</td>\n",
       "    </tr>\n",
       "    <tr>\n",
       "      <th>2</th>\n",
       "      <td>id_2</td>\n",
       "      <td>4.0</td>\n",
       "    </tr>\n",
       "    <tr>\n",
       "      <th>3</th>\n",
       "      <td>id_3</td>\n",
       "      <td>1.0</td>\n",
       "    </tr>\n",
       "    <tr>\n",
       "      <th>4</th>\n",
       "      <td>id_4</td>\n",
       "      <td>4.0</td>\n",
       "    </tr>\n",
       "    <tr>\n",
       "      <th>...</th>\n",
       "      <td>...</td>\n",
       "      <td>...</td>\n",
       "    </tr>\n",
       "    <tr>\n",
       "      <th>9995</th>\n",
       "      <td>id_9995</td>\n",
       "      <td>3.0</td>\n",
       "    </tr>\n",
       "    <tr>\n",
       "      <th>9996</th>\n",
       "      <td>id_9996</td>\n",
       "      <td>1.5</td>\n",
       "    </tr>\n",
       "    <tr>\n",
       "      <th>9997</th>\n",
       "      <td>id_9997</td>\n",
       "      <td>4.5</td>\n",
       "    </tr>\n",
       "    <tr>\n",
       "      <th>9998</th>\n",
       "      <td>id_9998</td>\n",
       "      <td>1.0</td>\n",
       "    </tr>\n",
       "    <tr>\n",
       "      <th>9999</th>\n",
       "      <td>id_9999</td>\n",
       "      <td>2.5</td>\n",
       "    </tr>\n",
       "  </tbody>\n",
       "</table>\n",
       "<p>10000 rows × 2 columns</p>\n",
       "</div>"
      ],
      "text/plain": [
       "     Restaurant_id  Rating\n",
       "0             id_0     2.0\n",
       "1             id_1     2.5\n",
       "2             id_2     4.0\n",
       "3             id_3     1.0\n",
       "4             id_4     4.0\n",
       "...            ...     ...\n",
       "9995       id_9995     3.0\n",
       "9996       id_9996     1.5\n",
       "9997       id_9997     4.5\n",
       "9998       id_9998     1.0\n",
       "9999       id_9999     2.5\n",
       "\n",
       "[10000 rows x 2 columns]"
      ]
     },
     "execution_count": 59,
     "metadata": {},
     "output_type": "execute_result"
    }
   ],
   "source": [
    "sample_submission"
   ]
  },
  {
   "cell_type": "code",
   "execution_count": 60,
   "metadata": {},
   "outputs": [
    {
     "name": "stderr",
     "output_type": "stream",
     "text": [
      "[Parallel(n_jobs=4)]: Using backend ThreadingBackend with 4 concurrent workers.\n",
      "[Parallel(n_jobs=4)]: Done  42 tasks      | elapsed:    0.0s\n",
      "[Parallel(n_jobs=4)]: Done 100 out of 100 | elapsed:    0.0s finished\n"
     ]
    }
   ],
   "source": [
    "predict_submission = round_of_rating(model.predict(test_data))"
   ]
  },
  {
   "cell_type": "code",
   "execution_count": 61,
   "metadata": {},
   "outputs": [
    {
     "data": {
      "text/plain": [
       "array([3. , 4. , 4.5, ..., 3. , 4. , 4.5])"
      ]
     },
     "execution_count": 61,
     "metadata": {},
     "output_type": "execute_result"
    }
   ],
   "source": [
    "predict_submission"
   ]
  },
  {
   "cell_type": "code",
   "execution_count": 62,
   "metadata": {
    "scrolled": true
   },
   "outputs": [
    {
     "data": {
      "text/html": [
       "<div>\n",
       "<style scoped>\n",
       "    .dataframe tbody tr th:only-of-type {\n",
       "        vertical-align: middle;\n",
       "    }\n",
       "\n",
       "    .dataframe tbody tr th {\n",
       "        vertical-align: top;\n",
       "    }\n",
       "\n",
       "    .dataframe thead th {\n",
       "        text-align: right;\n",
       "    }\n",
       "</style>\n",
       "<table border=\"1\" class=\"dataframe\">\n",
       "  <thead>\n",
       "    <tr style=\"text-align: right;\">\n",
       "      <th></th>\n",
       "      <th>Restaurant_id</th>\n",
       "      <th>Rating</th>\n",
       "    </tr>\n",
       "  </thead>\n",
       "  <tbody>\n",
       "    <tr>\n",
       "      <th>0</th>\n",
       "      <td>id_0</td>\n",
       "      <td>3.0</td>\n",
       "    </tr>\n",
       "    <tr>\n",
       "      <th>1</th>\n",
       "      <td>id_1</td>\n",
       "      <td>4.0</td>\n",
       "    </tr>\n",
       "    <tr>\n",
       "      <th>2</th>\n",
       "      <td>id_2</td>\n",
       "      <td>4.5</td>\n",
       "    </tr>\n",
       "    <tr>\n",
       "      <th>3</th>\n",
       "      <td>id_3</td>\n",
       "      <td>4.5</td>\n",
       "    </tr>\n",
       "    <tr>\n",
       "      <th>4</th>\n",
       "      <td>id_4</td>\n",
       "      <td>4.5</td>\n",
       "    </tr>\n",
       "    <tr>\n",
       "      <th>5</th>\n",
       "      <td>id_5</td>\n",
       "      <td>4.5</td>\n",
       "    </tr>\n",
       "    <tr>\n",
       "      <th>6</th>\n",
       "      <td>id_6</td>\n",
       "      <td>2.0</td>\n",
       "    </tr>\n",
       "    <tr>\n",
       "      <th>7</th>\n",
       "      <td>id_7</td>\n",
       "      <td>2.5</td>\n",
       "    </tr>\n",
       "    <tr>\n",
       "      <th>8</th>\n",
       "      <td>id_8</td>\n",
       "      <td>4.0</td>\n",
       "    </tr>\n",
       "    <tr>\n",
       "      <th>9</th>\n",
       "      <td>id_9</td>\n",
       "      <td>4.5</td>\n",
       "    </tr>\n",
       "  </tbody>\n",
       "</table>\n",
       "</div>"
      ],
      "text/plain": [
       "  Restaurant_id  Rating\n",
       "0          id_0     3.0\n",
       "1          id_1     4.0\n",
       "2          id_2     4.5\n",
       "3          id_3     4.5\n",
       "4          id_4     4.5\n",
       "5          id_5     4.5\n",
       "6          id_6     2.0\n",
       "7          id_7     2.5\n",
       "8          id_8     4.0\n",
       "9          id_9     4.5"
      ]
     },
     "execution_count": 62,
     "metadata": {},
     "output_type": "execute_result"
    }
   ],
   "source": [
    "sample_submission['Rating'] = predict_submission\n",
    "sample_submission.to_csv('submission.csv', index=False)\n",
    "sample_submission.head(10)"
   ]
  }
 ],
 "metadata": {
  "kernelspec": {
   "display_name": "Python 3",
   "language": "python",
   "name": "python3"
  },
  "language_info": {
   "codemirror_mode": {
    "name": "ipython",
    "version": 3
   },
   "file_extension": ".py",
   "mimetype": "text/x-python",
   "name": "python",
   "nbconvert_exporter": "python",
   "pygments_lexer": "ipython3",
   "version": "3.7.6"
  }
 },
 "nbformat": 4,
 "nbformat_minor": 1
}
